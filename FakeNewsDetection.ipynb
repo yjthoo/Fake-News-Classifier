{
 "cells": [
  {
   "cell_type": "code",
   "execution_count": 1,
   "metadata": {},
   "outputs": [],
   "source": [
    "import spacy\n",
    "from spacy.matcher import PhraseMatcher\n",
    "from spacy.util import minibatch\n",
    "import pandas as pd\n",
    "import random\n",
    "import numpy as np"
   ]
  },
  {
   "cell_type": "code",
   "execution_count": 2,
   "metadata": {},
   "outputs": [],
   "source": [
    "class spacy_preprocessing_tools():\n",
    "    \n",
    "    def __init__(self, language = \"en_core_web_sm\"):\n",
    "        \n",
    "        # english language model\n",
    "        self.nlp = spacy.load(language)\n",
    "        \n",
    "        # phrase matcher\n",
    "        self.matcher = PhraseMatcher(self.nlp.vocab, attr='LOWER')\n",
    "        \n",
    "        # patterns to match\n",
    "        self.patterns = []\n",
    "        \n",
    "         \n",
    "    def addKeywords(self, keywords): \n",
    "        \n",
    "        # words / group of words to match\n",
    "        self.patterns += [self.nlp(text) for text in keywords]\n",
    "        self.matcher.add(\"TerminologyList\", None, *self.patterns)\n",
    "    \n",
    "    \n",
    "    def returnKeywordMatches(self, text):\n",
    "        \n",
    "        # find keywords in the text\n",
    "        text = self.nlp(text)\n",
    "        matches = self.matcher(text)\n",
    "        words = []\n",
    "        \n",
    "        # append keywords to a string separated by a comma\n",
    "        for match in matches: \n",
    "            match_id, start, end = match\n",
    "            words.append(str(text[start:end]))\n",
    "    \n",
    "        if len(words):       \n",
    "            return words\n",
    "            \n",
    "        return None\n",
    "        \n",
    "        \n",
    "    def addStopwords(self, custom_stopwords):\n",
    "        \n",
    "        for words in custom_stopwords:\n",
    "            self.nlp.vocab[w].is_stop = True\n",
    "   \n",
    "\n",
    "    def removeStopwords(self, text):\n",
    "        text = self.nlp(text)\n",
    "        return ' '.join([token.text for token in text if not token.is_stop])\n",
    "    \n",
    "    \n",
    "    def lemmatize(self, text):\n",
    "        text = self.nlp(text)\n",
    "        return ' '.join([token.lemma_ for token in text])\n",
    "    \n",
    "    \n",
    "    def word2vecEmbeddings(self, text_data):\n",
    "        \n",
    "        # large model to get the vectors\n",
    "        #self.nlp = spacy.load(\"en_core_web_lg\")\n",
    "        \n",
    "        # Disable other pipes and determine embedding vector for each text\n",
    "        with self.nlp.disable_pipes():\n",
    "            doc_vectors = np.array([self.nlp(text).vector for text in text_data])\n",
    "            \n",
    "        print(doc_vectors.shape)\n",
    "        \n",
    "        return doc_vectors"
   ]
  },
  {
   "cell_type": "code",
   "execution_count": 3,
   "metadata": {},
   "outputs": [],
   "source": [
    "class BoWModel():\n",
    "    \n",
    "    def __init__(self, language = 'en'):\n",
    "        '''\n",
    "        Initialize bag of words model\n",
    "        '''\n",
    "        # Create an empty model\n",
    "        self.nlp = spacy.blank(language)\n",
    "        \n",
    "        # Add TextCategorizer with \"bow\" architecture to model\n",
    "        self.textcat = self.nlp.create_pipe(\"textcat\", config={\"exclusive_classes\": True, \"architecture\": \"bow\"})\n",
    "        self.nlp.add_pipe(self.textcat)\n",
    "        \n",
    "    def addLabels(self, labels):\n",
    "        '''\n",
    "        Add labels to model\n",
    "        '''\n",
    "        for label in labels:\n",
    "            self.textcat.add_label(label)\n",
    "    \n",
    "    def fit(self, text_col, label_col):\n",
    "        '''\n",
    "        Train the model. Only supports 2 classes at the moment.\n",
    "        '''        \n",
    "        X = text_col.values           \n",
    "        y = [{'cats': {self.textcat.labels[0]: label == self.textcat.labels[0], \n",
    "                       self.textcat.labels[1]: label == self.textcat.labels[1]}}\n",
    "             for label in label_col]\n",
    "        \n",
    "        train_data = list(zip(X, y))\n",
    "        \n",
    "        random.seed(1)\n",
    "        spacy.util.fix_random_seed(1)\n",
    "        optimizer = self.nlp.begin_training()\n",
    "\n",
    "        losses = {}\n",
    "        for epoch in range(10):\n",
    "            random.shuffle(train_data)\n",
    "            \n",
    "            # Create the batch generator with batch size = 8\n",
    "            batches = minibatch(train_data, size=8)\n",
    "            \n",
    "            # Iterate through minibatches\n",
    "            for batch in batches:\n",
    "                # Each batch is a list of (text, label) but we need to\n",
    "                # send separate lists for texts and labels to update().\n",
    "                # This is a quick way to split a list of tuples into lists\n",
    "                texts, labels = zip(*batch)\n",
    "                self.nlp.update(texts, labels, sgd=optimizer, losses=losses)\n",
    "            print(losses)\n",
    "            \n",
    "    def score(self):\n",
    "        pass\n",
    "    \n",
    "    def predict(self, texts):\n",
    "        docs = [self.nlp.tokenizer(text) for text in texts]\n",
    "    \n",
    "        # Use textcat to get the scores for each doc\n",
    "        self.textcat = self.nlp.get_pipe('textcat')\n",
    "        scores, _ = self.textcat.predict(docs)\n",
    "        \n",
    "        # From the scores, find the label with the highest score/probability\n",
    "        predicted_labels = scores.argmax(axis=1)\n",
    "        \n",
    "        return [self.textcat.labels[label] for label in predicted_labels]"
   ]
  },
  {
   "cell_type": "code",
   "execution_count": 4,
   "metadata": {},
   "outputs": [],
   "source": [
    "news_df = pd.read_csv('data/fake-and-real-news-dataset/combined.csv')"
   ]
  },
  {
   "cell_type": "code",
   "execution_count": 5,
   "metadata": {},
   "outputs": [
    {
     "data": {
      "text/html": [
       "<div>\n",
       "<style scoped>\n",
       "    .dataframe tbody tr th:only-of-type {\n",
       "        vertical-align: middle;\n",
       "    }\n",
       "\n",
       "    .dataframe tbody tr th {\n",
       "        vertical-align: top;\n",
       "    }\n",
       "\n",
       "    .dataframe thead th {\n",
       "        text-align: right;\n",
       "    }\n",
       "</style>\n",
       "<table border=\"1\" class=\"dataframe\">\n",
       "  <thead>\n",
       "    <tr style=\"text-align: right;\">\n",
       "      <th></th>\n",
       "      <th>title</th>\n",
       "      <th>text</th>\n",
       "      <th>subject</th>\n",
       "      <th>date</th>\n",
       "      <th>label</th>\n",
       "    </tr>\n",
       "  </thead>\n",
       "  <tbody>\n",
       "    <tr>\n",
       "      <th>0</th>\n",
       "      <td>WATCH: Six Minutes Of Conservative Media’s Se...</td>\n",
       "      <td>It s no secret that conservatives and Republic...</td>\n",
       "      <td>News</td>\n",
       "      <td>August 2, 2016</td>\n",
       "      <td>fake</td>\n",
       "    </tr>\n",
       "    <tr>\n",
       "      <th>1</th>\n",
       "      <td>Sanders: Firms must take 'haircut' in Puerto R...</td>\n",
       "      <td>WASHINGTON (Reuters) - Wall Street investment ...</td>\n",
       "      <td>politicsNews</td>\n",
       "      <td>April 1, 2016</td>\n",
       "      <td>real</td>\n",
       "    </tr>\n",
       "    <tr>\n",
       "      <th>2</th>\n",
       "      <td>Factbox: Trump fills top jobs for his administ...</td>\n",
       "      <td>(Reuters) - U.S. President-elect Donald Trump ...</td>\n",
       "      <td>politicsNews</td>\n",
       "      <td>November 29, 2016</td>\n",
       "      <td>real</td>\n",
       "    </tr>\n",
       "    <tr>\n",
       "      <th>3</th>\n",
       "      <td>CNBC EDITOR: Media Must Remember Readers Are N...</td>\n",
       "      <td>A CNBC editor said members of the press need t...</td>\n",
       "      <td>left-news</td>\n",
       "      <td>Jun 29, 2017</td>\n",
       "      <td>fake</td>\n",
       "    </tr>\n",
       "    <tr>\n",
       "      <th>4</th>\n",
       "      <td>NYC: Turkish Thugs Beat Up Protesters…Deny Fre...</td>\n",
       "      <td>Remember when these Turkish thugs beat up (see...</td>\n",
       "      <td>politics</td>\n",
       "      <td>Sep 22, 2017</td>\n",
       "      <td>fake</td>\n",
       "    </tr>\n",
       "  </tbody>\n",
       "</table>\n",
       "</div>"
      ],
      "text/plain": [
       "                                               title  \\\n",
       "0   WATCH: Six Minutes Of Conservative Media’s Se...   \n",
       "1  Sanders: Firms must take 'haircut' in Puerto R...   \n",
       "2  Factbox: Trump fills top jobs for his administ...   \n",
       "3  CNBC EDITOR: Media Must Remember Readers Are N...   \n",
       "4  NYC: Turkish Thugs Beat Up Protesters…Deny Fre...   \n",
       "\n",
       "                                                text       subject  \\\n",
       "0  It s no secret that conservatives and Republic...          News   \n",
       "1  WASHINGTON (Reuters) - Wall Street investment ...  politicsNews   \n",
       "2  (Reuters) - U.S. President-elect Donald Trump ...  politicsNews   \n",
       "3  A CNBC editor said members of the press need t...     left-news   \n",
       "4  Remember when these Turkish thugs beat up (see...      politics   \n",
       "\n",
       "                 date label  \n",
       "0      August 2, 2016  fake  \n",
       "1      April 1, 2016   real  \n",
       "2  November 29, 2016   real  \n",
       "3        Jun 29, 2017  fake  \n",
       "4        Sep 22, 2017  fake  "
      ]
     },
     "execution_count": 5,
     "metadata": {},
     "output_type": "execute_result"
    }
   ],
   "source": [
    "news_df.head()"
   ]
  },
  {
   "cell_type": "code",
   "execution_count": 6,
   "metadata": {},
   "outputs": [],
   "source": [
    "nlp_process = spacy_preprocessing_tools()"
   ]
  },
  {
   "cell_type": "code",
   "execution_count": 7,
   "metadata": {},
   "outputs": [
    {
     "data": {
      "text/html": [
       "<div>\n",
       "<style scoped>\n",
       "    .dataframe tbody tr th:only-of-type {\n",
       "        vertical-align: middle;\n",
       "    }\n",
       "\n",
       "    .dataframe tbody tr th {\n",
       "        vertical-align: top;\n",
       "    }\n",
       "\n",
       "    .dataframe thead th {\n",
       "        text-align: right;\n",
       "    }\n",
       "</style>\n",
       "<table border=\"1\" class=\"dataframe\">\n",
       "  <thead>\n",
       "    <tr style=\"text-align: right;\">\n",
       "      <th></th>\n",
       "      <th>title</th>\n",
       "      <th>text</th>\n",
       "      <th>subject</th>\n",
       "      <th>date</th>\n",
       "      <th>label</th>\n",
       "      <th>full_text</th>\n",
       "    </tr>\n",
       "  </thead>\n",
       "  <tbody>\n",
       "    <tr>\n",
       "      <th>0</th>\n",
       "      <td>WATCH: Six Minutes Of Conservative Media’s Se...</td>\n",
       "      <td>It s no secret that conservatives and Republic...</td>\n",
       "      <td>News</td>\n",
       "      <td>August 2, 2016</td>\n",
       "      <td>fake</td>\n",
       "      <td>WATCH: Six Minutes Of Conservative Media’s Se...</td>\n",
       "    </tr>\n",
       "    <tr>\n",
       "      <th>1</th>\n",
       "      <td>Sanders: Firms must take 'haircut' in Puerto R...</td>\n",
       "      <td>WASHINGTON (Reuters) - Wall Street investment ...</td>\n",
       "      <td>politicsNews</td>\n",
       "      <td>April 1, 2016</td>\n",
       "      <td>real</td>\n",
       "      <td>Sanders: Firms must take 'haircut' in Puerto R...</td>\n",
       "    </tr>\n",
       "    <tr>\n",
       "      <th>2</th>\n",
       "      <td>Factbox: Trump fills top jobs for his administ...</td>\n",
       "      <td>(Reuters) - U.S. President-elect Donald Trump ...</td>\n",
       "      <td>politicsNews</td>\n",
       "      <td>November 29, 2016</td>\n",
       "      <td>real</td>\n",
       "      <td>Factbox: Trump fills top jobs for his administ...</td>\n",
       "    </tr>\n",
       "    <tr>\n",
       "      <th>3</th>\n",
       "      <td>CNBC EDITOR: Media Must Remember Readers Are N...</td>\n",
       "      <td>A CNBC editor said members of the press need t...</td>\n",
       "      <td>left-news</td>\n",
       "      <td>Jun 29, 2017</td>\n",
       "      <td>fake</td>\n",
       "      <td>CNBC EDITOR: Media Must Remember Readers Are N...</td>\n",
       "    </tr>\n",
       "    <tr>\n",
       "      <th>4</th>\n",
       "      <td>NYC: Turkish Thugs Beat Up Protesters…Deny Fre...</td>\n",
       "      <td>Remember when these Turkish thugs beat up (see...</td>\n",
       "      <td>politics</td>\n",
       "      <td>Sep 22, 2017</td>\n",
       "      <td>fake</td>\n",
       "      <td>NYC: Turkish Thugs Beat Up Protesters…Deny Fre...</td>\n",
       "    </tr>\n",
       "  </tbody>\n",
       "</table>\n",
       "</div>"
      ],
      "text/plain": [
       "                                               title  \\\n",
       "0   WATCH: Six Minutes Of Conservative Media’s Se...   \n",
       "1  Sanders: Firms must take 'haircut' in Puerto R...   \n",
       "2  Factbox: Trump fills top jobs for his administ...   \n",
       "3  CNBC EDITOR: Media Must Remember Readers Are N...   \n",
       "4  NYC: Turkish Thugs Beat Up Protesters…Deny Fre...   \n",
       "\n",
       "                                                text       subject  \\\n",
       "0  It s no secret that conservatives and Republic...          News   \n",
       "1  WASHINGTON (Reuters) - Wall Street investment ...  politicsNews   \n",
       "2  (Reuters) - U.S. President-elect Donald Trump ...  politicsNews   \n",
       "3  A CNBC editor said members of the press need t...     left-news   \n",
       "4  Remember when these Turkish thugs beat up (see...      politics   \n",
       "\n",
       "                 date label                                          full_text  \n",
       "0      August 2, 2016  fake   WATCH: Six Minutes Of Conservative Media’s Se...  \n",
       "1      April 1, 2016   real  Sanders: Firms must take 'haircut' in Puerto R...  \n",
       "2  November 29, 2016   real  Factbox: Trump fills top jobs for his administ...  \n",
       "3        Jun 29, 2017  fake  CNBC EDITOR: Media Must Remember Readers Are N...  \n",
       "4        Sep 22, 2017  fake  NYC: Turkish Thugs Beat Up Protesters…Deny Fre...  "
      ]
     },
     "execution_count": 7,
     "metadata": {},
     "output_type": "execute_result"
    }
   ],
   "source": [
    "news_df[\"full_text\"] = news_df[\"title\"] + \": \" + news_df[\"text\"] \n",
    "news_df.head()"
   ]
  },
  {
   "cell_type": "code",
   "execution_count": 8,
   "metadata": {},
   "outputs": [
    {
     "data": {
      "text/plain": [
       "' WATCH: Six Minutes Of Conservative Media’s Sexist Assault On Hillary Clinton: It s no secret that conservatives and Republicans (not all) despise President Obama simply because he is black. After years of insisting he s an  Arab,  from Kenya, a Muslim, or anything else you can name, it s telling that some Americans hold him to a completely different standard simply because he s black.Now take Hillary Clinton, who is on the cusp of making history as the first female President of the United States, just as Barack Obama did as the first African American president. For years, Clinton has been in the public eye as a governor s wife, a First Lady, a senator, a Secretary of State, and now a presidential candidate. But like their hate for President Obama simply because he is black, there are those on the right who hate her simply because she is a woman. Like the dog whistle politics that follow President Obama, conservatives have unleashed their own dog whistle on Clinton   and they are even louder.Whether it be the sound of her voice, her boisterous laugh, her  vagina politics  or making an honest woman  of herself, Hillary Clinton has been besmirched by the right based not on her policies, but by her gender.Don t believe it? The commentary speaks for itself: Throughout her career, the attacks have become worse. But yet here she is, making history (yet again), not brought down by the good old boys  club.This is why Hillary Clinton is the epitome of what it takes to be president: no matter what is thrown her way, she stands tall, and never relents. Unlike another presidential candidate, Clinton also doesn t take it personally, instead focusing on the real issues.Th sexist attacks will continue should Clinton win the presidency, and it may hamper some of her legislative hopes in a Congress that is still disproportionately Republican male. But like President Obama, Clinton will make us proud (should she stick to her campaign promises).Featured image via Justin Sullivan/Getty Images'"
      ]
     },
     "execution_count": 8,
     "metadata": {},
     "output_type": "execute_result"
    }
   ],
   "source": [
    "news_df[\"full_text\"][0]"
   ]
  },
  {
   "cell_type": "code",
   "execution_count": 9,
   "metadata": {},
   "outputs": [],
   "source": [
    "bow = BoWModel()\n",
    "bow.addLabels(news_df.label.unique().tolist())"
   ]
  },
  {
   "cell_type": "code",
   "execution_count": 10,
   "metadata": {},
   "outputs": [
    {
     "data": {
      "text/plain": [
       "1122"
      ]
     },
     "execution_count": 10,
     "metadata": {},
     "output_type": "execute_result"
    }
   ],
   "source": [
    "test = news_df.sample(frac = 0.025).copy()\n",
    "len(test)"
   ]
  },
  {
   "cell_type": "code",
   "execution_count": 11,
   "metadata": {},
   "outputs": [],
   "source": [
    "test[\"full_text\"] = test[\"full_text\"].apply(lambda x: nlp_process.removeStopwords(x))\n",
    "test[\"full_text\"] = test[\"full_text\"].apply(lambda x: nlp_process.lemmatize(x))"
   ]
  },
  {
   "cell_type": "code",
   "execution_count": 12,
   "metadata": {},
   "outputs": [
    {
     "name": "stdout",
     "output_type": "stream",
     "text": [
      "(1122, 96)\n"
     ]
    }
   ],
   "source": [
    "doc_vectors = nlp_process.word2vecEmbeddings(test.full_text)"
   ]
  },
  {
   "cell_type": "code",
   "execution_count": 38,
   "metadata": {},
   "outputs": [],
   "source": [
    "from sklearn.model_selection import train_test_split\n",
    "\n",
    "X_train, X_test, y_train, y_test = train_test_split(doc_vectors, test.label,\n",
    "                                                    test_size=0.2, random_state=1)"
   ]
  },
  {
   "cell_type": "code",
   "execution_count": 51,
   "metadata": {},
   "outputs": [
    {
     "name": "stderr",
     "output_type": "stream",
     "text": [
      "C:\\Users\\yongj\\Anaconda3_new\\lib\\site-packages\\sklearn\\model_selection\\_split.py:1978: FutureWarning: The default value of cv will change from 3 to 5 in version 0.22. Specify it explicitly to silence this warning.\n",
      "  warnings.warn(CV_WARNING, FutureWarning)\n"
     ]
    },
    {
     "name": "stdout",
     "output_type": "stream",
     "text": [
      "SVC(C=10, cache_size=200, class_weight=None, coef0=0.0,\n",
      "    decision_function_shape='ovr', degree=3, gamma=0.01, kernel='rbf',\n",
      "    max_iter=-1, probability=False, random_state=None, shrinking=True,\n",
      "    tol=0.001, verbose=False)\n"
     ]
    }
   ],
   "source": [
    "from sklearn.model_selection import GridSearchCV\n",
    "\n",
    "param_grid = {'C': [0.1,1, 10, 100], 'gamma': [1,0.1,0.01,0.001],'kernel': ['rbf']}\n",
    "grid = GridSearchCV(SVC(),param_grid,refit=True)\n",
    "grid.fit(X_train,y_train)\n",
    "\n",
    "print(grid.best_estimator_)"
   ]
  },
  {
   "cell_type": "code",
   "execution_count": 53,
   "metadata": {},
   "outputs": [
    {
     "name": "stdout",
     "output_type": "stream",
     "text": [
      "Train Accuracy: 95.206%\n",
      "Test Accuracy: 92.000%\n"
     ]
    }
   ],
   "source": [
    "svc = SVC(C=10, cache_size=200, class_weight=None, coef0=0.0,\n",
    "    decision_function_shape='ovr', degree=3, gamma=0.01, kernel='rbf',\n",
    "    max_iter=-1, probability=False, random_state=None, shrinking=True,\n",
    "    tol=0.001, verbose=False)\n",
    "\n",
    "svc.fit(X_train, y_train)\n",
    "print(f\"Train Accuracy: {svc.score(X_train, y_train) * 100:.3f}%\", )\n",
    "print(f\"Test Accuracy: {svc.score(X_test, y_test) * 100:.3f}%\", )"
   ]
  },
  {
   "cell_type": "markdown",
   "metadata": {},
   "source": [
    "Optimization of the C regularization parameter to reduce overfitting "
   ]
  },
  {
   "cell_type": "code",
   "execution_count": 47,
   "metadata": {},
   "outputs": [
    {
     "name": "stdout",
     "output_type": "stream",
     "text": [
      "Train Accuracy: 93.200%\n",
      "Test Accuracy: 93.333%\n"
     ]
    }
   ],
   "source": [
    "from sklearn.svm import SVC\n",
    "\n",
    "svc = SVC(C=1.65, kernel='rbf', gamma='scale', probability=False, tol=0.001, \n",
    "                 cache_size=200, class_weight=None, verbose=False, max_iter=-1, \n",
    "                 decision_function_shape='ovr', random_state=None)\n",
    "\n",
    "svc.fit(X_train, y_train)\n",
    "print(f\"Train Accuracy: {svc.score(X_train, y_train) * 100:.3f}%\", )\n",
    "print(f\"Test Accuracy: {svc.score(X_test, y_test) * 100:.3f}%\", )"
   ]
  },
  {
   "cell_type": "code",
   "execution_count": null,
   "metadata": {},
   "outputs": [],
   "source": []
  }
 ],
 "metadata": {
  "kernelspec": {
   "display_name": "Python 3",
   "language": "python",
   "name": "python3"
  },
  "language_info": {
   "codemirror_mode": {
    "name": "ipython",
    "version": 3
   },
   "file_extension": ".py",
   "mimetype": "text/x-python",
   "name": "python",
   "nbconvert_exporter": "python",
   "pygments_lexer": "ipython3",
   "version": "3.7.3"
  }
 },
 "nbformat": 4,
 "nbformat_minor": 2
}
